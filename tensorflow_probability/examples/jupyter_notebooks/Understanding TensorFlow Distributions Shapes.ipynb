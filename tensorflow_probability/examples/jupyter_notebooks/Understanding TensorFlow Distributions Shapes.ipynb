{
  "cells": [
    {
      "cell_type": "markdown",
      "metadata": {
        "colab_type": "text",
        "id": "DcriL2xPrG3_"
      },
      "source": [
        "# Understanding TensorFlow Distributions Shapes"
      ]
    },
    {
      "cell_type": "code",
      "execution_count": 0,
      "metadata": {
        "colab": {
          "autoexec": {
            "startup": false,
            "wait_interval": 0
          }
        },
        "colab_type": "code",
        "id": "J6t0EUihrG4B"
      },
      "outputs": [],
      "source": [
        "import collections\n",
        "\n",
        "import tensorflow as tf\n",
        "import tensorflow_probability as tfp\n",
        "tfd = tfp.distributions\n",
        "tfb = tfp.distributions.bijectors\n",
        "\n",
        "tfe = tf.contrib.eager\n",
        "tfe.enable_eager_execution()\n",
        "\n",
        "from __future__ import print_function"
      ]
    },
    {
      "cell_type": "markdown",
      "metadata": {
        "colab_type": "text",
        "id": "QD5lzFZerG4H"
      },
      "source": [
        "## Basics\n",
        "\n",
        "There are three important concepts associated with TensorFlow Distributions shapes:\n",
        "- *Event shape* describes the shape of a single draw from the distribution; it may be dependent across dimensions. For scalar distributions, the event shape is `[]`. For a 5-dimensional MultivariateNormal, the event shape is `[5]`.\n",
        "- *Batch shape* describes independent, not identically distributed draws, aka a \"batch\" of distributions.\n",
        "- *Sample shape* describes independent, identically distributed draws of batches from the distribution family.\n",
        "\n",
        "The event shape and the batch shape are properties of a `Distribution` object, whereas the sample shape is associated with a specific call to `sample` or `log_prob`.\n",
        "\n",
        "This notebook's purpose is to illustrate these concepts through examples, so if this isn't immediately obvious, don't worry!"
      ]
    },
    {
      "cell_type": "markdown",
      "metadata": {
        "colab_type": "text",
        "id": "yU34kIHDrG4I"
      },
      "source": [
        "### A note on TensorFlow Eager.\n",
        "\n",
        "This entire notebook is written using [TensorFlow Eager](https://research.googleblog.com/2017/10/eager-execution-imperative-define-by.html). None of the concepts presented *rely* on Eager, although with Eager, distribution batch and event shapes are evaluated (and therefore known) when the `Distribution` object is created in Python, whereas in graph (non-Eager mode), it is possible to define distributions whose event and batch shapes are undetermined until the graph is run."
      ]
    },
    {
      "cell_type": "markdown",
      "metadata": {
        "colab_type": "text",
        "id": "MeirD-0JrG4K"
      },
      "source": [
        "## Scalar Distributions\n",
        "\n",
        "As we noted above, a `Distribution` object has defined event and batch shapes. We'll start with a utility to describe distributions:"
      ]
    },
    {
      "cell_type": "code",
      "execution_count": 0,
      "metadata": {
        "colab": {
          "autoexec": {
            "startup": false,
            "wait_interval": 0
          }
        },
        "colab_type": "code",
        "id": "bq8guNPtrG4M"
      },
      "outputs": [],
      "source": [
        "def describe_distribution(distribution, name=None):\n",
        "    if name:\n",
        "        print(name)\n",
        "    print('Event shape:', distribution.event_shape_tensor())\n",
        "    print('Batch shape:', distribution.batch_shape_tensor())\n",
        "    \n",
        "def describe_distributions(distributions_dict):\n",
        "    started = False\n",
        "    for (name, distribution) in distributions_dict.items():\n",
        "        if started:\n",
        "            print()\n",
        "        describe_distribution(distribution, name)\n",
        "        started = True"
      ]
    },
    {
      "cell_type": "markdown",
      "metadata": {
        "colab_type": "text",
        "id": "06CafVXWrG4Q"
      },
      "source": [
        "In this section we'll explore *scalar* distributions: distributions with an event shape of `[]`. A typical example is the Poisson distribution, specified by a `rate`:"
      ]
    },
    {
      "cell_type": "code",
      "execution_count": 3,
      "metadata": {
        "colab": {
          "autoexec": {
            "startup": false,
            "wait_interval": 0
          },
          "height": 336,
          "output_extras": [
            {
              "item_id": 1
            }
          ]
        },
        "colab_type": "code",
        "executionInfo": {
          "elapsed": 1092,
          "status": "ok",
          "timestamp": 1521586285696,
          "user": {
            "displayName": "",
            "photoUrl": "",
            "userId": ""
          },
          "user_tz": 420
        },
        "id": "Sdz1OMg7rG4S",
        "outputId": "d3220590-5d9d-4309-dc5b-b9557374e37f"
      },
      "outputs": [
        {
          "name": "stdout",
          "output_type": "stream",
          "text": [
            "One Poisson Scalar Batch\n",
            "Event shape: tf.Tensor([], shape=(0,), dtype=int32)\n",
            "Batch shape: tf.Tensor([], shape=(0,), dtype=int32)\n",
            "\n",
            "Three Poissons\n",
            "Event shape: tf.Tensor([], shape=(0,), dtype=int32)\n",
            "Batch shape: tf.Tensor([3], shape=(1,), dtype=int32)\n",
            "\n",
            "Two-by-Three Poissons\n",
            "Event shape: tf.Tensor([], shape=(0,), dtype=int32)\n",
            "Batch shape: tf.Tensor([2 3], shape=(2,), dtype=int32)\n",
            "\n",
            "One Poisson Vector Batch\n",
            "Event shape: tf.Tensor([], shape=(0,), dtype=int32)\n",
            "Batch shape: tf.Tensor([1], shape=(1,), dtype=int32)\n",
            "\n",
            "One Poisson Expanded Batch\n",
            "Event shape: tf.Tensor([], shape=(0,), dtype=int32)\n",
            "Batch shape: tf.Tensor([1 1], shape=(2,), dtype=int32)\n"
          ]
        }
      ],
      "source": [
        "poisson_distributions = collections.OrderedDict([\n",
        "    # Poisson is a scalar distribution. The event shape is [].\n",
        "    ('One Poisson Scalar Batch', tfd.Poisson(rate=1.)),\n",
        "    ('Three Poissons', tfd.Poisson(rate=[1., 10., 100.])),\n",
        "    ('Two-by-Three Poissons',\n",
        "     tfd.Poisson(rate=[[1., 10., 100.,], [2., 20., 200.]])),\n",
        "    ('One Poisson Vector Batch', tfd.Poisson(rate=[1.])),\n",
        "    ('One Poisson Expanded Batch', tfd.Poisson(rate=[[1.]]))\n",
        "])\n",
        "\n",
        "describe_distributions(poisson_distributions)"
      ]
    },
    {
      "cell_type": "markdown",
      "metadata": {
        "colab_type": "text",
        "id": "lVPVIsC9rG4a"
      },
      "source": [
        "The Poisson distribution is a scalar distribution, so its event shape is always `[]`. If we specify more rates, these show up in the batch shape. The final pair of examples is interesting: there's only a single rate, but because that rate is embedded in a numpy array with non-empty shape, that shape becomes the batch shape. "
      ]
    },
    {
      "cell_type": "markdown",
      "metadata": {
        "colab_type": "text",
        "id": "cFlXG9O5rG4b"
      },
      "source": [
        "The standard Normal distribution is also a scalar. It's event shape is `[]`, just like for the Poisson, but we'll play with it to see our first example of *broadcasting*. The Normal is specified using `loc` and `scale` parameters:"
      ]
    },
    {
      "cell_type": "code",
      "execution_count": 4,
      "metadata": {
        "colab": {
          "autoexec": {
            "startup": false,
            "wait_interval": 0
          },
          "height": 269,
          "output_extras": [
            {
              "item_id": 1
            }
          ]
        },
        "colab_type": "code",
        "executionInfo": {
          "elapsed": 1121,
          "status": "ok",
          "timestamp": 1521586287721,
          "user": {
            "displayName": "",
            "photoUrl": "",
            "userId": ""
          },
          "user_tz": 420
        },
        "id": "e5PXRPM1rG4c",
        "outputId": "bb0f7d11-7d8c-448e-a37f-518dde4e1197"
      },
      "outputs": [
        {
          "name": "stdout",
          "output_type": "stream",
          "text": [
            "Standard\n",
            "Event shape: tf.Tensor([], shape=(0,), dtype=int32)\n",
            "Batch shape: tf.Tensor([], shape=(0,), dtype=int32)\n",
            "\n",
            "Standard Vector Batch\n",
            "Event shape: tf.Tensor([], shape=(0,), dtype=int32)\n",
            "Batch shape: tf.Tensor([1], shape=(1,), dtype=int32)\n",
            "\n",
            "Different Locs\n",
            "Event shape: tf.Tensor([], shape=(0,), dtype=int32)\n",
            "Batch shape: tf.Tensor([4], shape=(1,), dtype=int32)\n",
            "\n",
            "Broadcasting Scale\n",
            "Event shape: tf.Tensor([], shape=(0,), dtype=int32)\n",
            "Batch shape: tf.Tensor([2 4], shape=(2,), dtype=int32)\n"
          ]
        }
      ],
      "source": [
        "normal_distributions = collections.OrderedDict([\n",
        "    ('Standard', tfd.Normal(loc=0., scale=1.)),\n",
        "    ('Standard Vector Batch', tfd.Normal(loc=[0.], scale=1.)),\n",
        "    ('Different Locs', tfd.Normal(loc=[0., 1., 2., 3.], scale=1.)),\n",
        "    ('Broadcasting Scale',\n",
        "     tfd.Normal(loc=[0., 1., 2., 3.], scale=[[1.], [5.]])),\n",
        "])\n",
        "\n",
        "describe_distributions(normal_distributions)"
      ]
    },
    {
      "cell_type": "markdown",
      "metadata": {
        "colab_type": "text",
        "id": "Dh70eNXHrG4i"
      },
      "source": [
        "The interesting example above is the `Broadcasting Scale` distribution. The `loc` parameter has shape `[4]`, and the `scale` parameter has shape `[2, 1]`. Using [Numpy broadcasting rules](https://docs.scipy.org/doc/numpy/user/basics.broadcasting.html), the batch shape is `[2, 4]`. An equivalent (but less elegant and not-recommended) way to define the `\"Broadcasting Scale\"` distribution would be:"
      ]
    },
    {
      "cell_type": "code",
      "execution_count": 5,
      "metadata": {
        "colab": {
          "autoexec": {
            "startup": false,
            "wait_interval": 0
          },
          "height": 51,
          "output_extras": [
            {
              "item_id": 1
            }
          ]
        },
        "colab_type": "code",
        "executionInfo": {
          "elapsed": 1096,
          "status": "ok",
          "timestamp": 1521586289698,
          "user": {
            "displayName": "",
            "photoUrl": "",
            "userId": ""
          },
          "user_tz": 420
        },
        "id": "9G5JNBzQrG4j",
        "outputId": "9c144785-0546-4e1c-e692-f5b37447531f"
      },
      "outputs": [
        {
          "name": "stdout",
          "output_type": "stream",
          "text": [
            "Event shape: tf.Tensor([], shape=(0,), dtype=int32)\n",
            "Batch shape: tf.Tensor([2 4], shape=(2,), dtype=int32)\n"
          ]
        }
      ],
      "source": [
        "describe_distribution(\n",
        "    tfd.Normal(loc=[[0., 1., 2., 3], [0., 1., 2., 3.]],\n",
        "               scale=[[1., 1., 1., 1.], [5., 5., 5., 5.]]))"
      ]
    },
    {
      "cell_type": "markdown",
      "metadata": {
        "colab_type": "text",
        "id": "_hSBWsokrG4p"
      },
      "source": [
        "We can see why the broadcasting notation is useful, although it's also a source of headaches and bugs."
      ]
    },
    {
      "cell_type": "markdown",
      "metadata": {
        "colab_type": "text",
        "id": "trGxojHwrG4r"
      },
      "source": [
        "### Sampling Scalar Distributions"
      ]
    },
    {
      "cell_type": "markdown",
      "metadata": {
        "colab_type": "text",
        "id": "TDJqRz-qrG4t"
      },
      "source": [
        "There are two main things we can do with distributions: we can `sample` from them and we can compute `log_prob`s. Let's explore sampling first. The basic rule is that when we sample from a distribution, the resulting Tensor has shape `[sample_shape, batch_shape, event_shape]`, where `batch_shape` and `event_shape` are provided by the `Distribution` object, and `sample_shape` is provided by the call to `sample`. For scalar distributions, `event_shape = []`, so the Tensor returned from sample will have shape `[sample_shape, batch_shape]`. Let's try it: "
      ]
    },
    {
      "cell_type": "code",
      "execution_count": 6,
      "metadata": {
        "colab": {
          "autoexec": {
            "startup": false,
            "wait_interval": 0
          },
          "height": 1025,
          "output_extras": [
            {
              "item_id": 1
            }
          ]
        },
        "colab_type": "code",
        "executionInfo": {
          "elapsed": 1105,
          "status": "ok",
          "timestamp": 1521586291788,
          "user": {
            "displayName": "",
            "photoUrl": "",
            "userId": ""
          },
          "user_tz": 420
        },
        "id": "2TbeP0btrG4u",
        "outputId": "c878a49d-b230-42c2-850c-bb7e782643c1"
      },
      "outputs": [
        {
          "name": "stdout",
          "output_type": "stream",
          "text": [
            "One Poisson Scalar Batch\n",
            "Event shape: tf.Tensor([], shape=(0,), dtype=int32)\n",
            "Batch shape: tf.Tensor([], shape=(0,), dtype=int32)\n",
            "Sample shape: 1\n",
            "Returned sample tensor shape: (1,)\n",
            "Sample shape: 2\n",
            "Returned sample tensor shape: (2,)\n",
            "Sample shape: [1, 5]\n",
            "Returned sample tensor shape: (1, 5)\n",
            "Sample shape: [3, 4, 5]\n",
            "Returned sample tensor shape: (3, 4, 5)\n",
            "\n",
            "Three Poissons\n",
            "Event shape: tf.Tensor([], shape=(0,), dtype=int32)\n",
            "Batch shape: tf.Tensor([3], shape=(1,), dtype=int32)\n",
            "Sample shape: 1\n",
            "Returned sample tensor shape: (1, 3)\n",
            "Sample shape: 2\n",
            "Returned sample tensor shape: (2, 3)\n",
            "Sample shape: [1, 5]\n",
            "Returned sample tensor shape: (1, 5, 3)\n",
            "Sample shape: [3, 4, 5]\n",
            "Returned sample tensor shape: (3, 4, 5, 3)\n",
            "\n",
            "Two-by-Three Poissons\n",
            "Event shape: tf.Tensor([], shape=(0,), dtype=int32)\n",
            "Batch shape: tf.Tensor([2 3], shape=(2,), dtype=int32)\n",
            "Sample shape: 1\n",
            "Returned sample tensor shape: (1, 2, 3)\n",
            "Sample shape: 2\n",
            "Returned sample tensor shape: (2, 2, 3)\n",
            "Sample shape: [1, 5]\n",
            "Returned sample tensor shape: (1, 5, 2, 3)\n",
            "Sample shape: [3, 4, 5]\n",
            "Returned sample tensor shape: (3, 4, 5, 2, 3)\n",
            "\n",
            "One Poisson Vector Batch\n",
            "Event shape: tf.Tensor([], shape=(0,), dtype=int32)\n",
            "Batch shape: tf.Tensor([1], shape=(1,), dtype=int32)\n",
            "Sample shape: 1\n",
            "Returned sample tensor shape: (1, 1)\n",
            "Sample shape: 2\n",
            "Returned sample tensor shape: (2, 1)\n",
            "Sample shape: [1, 5]\n",
            "Returned sample tensor shape: (1, 5, 1)\n",
            "Sample shape: [3, 4, 5]\n",
            "Returned sample tensor shape: (3, 4, 5, 1)\n",
            "\n",
            "One Poisson Expanded Batch\n",
            "Event shape: tf.Tensor([], shape=(0,), dtype=int32)\n",
            "Batch shape: tf.Tensor([1 1], shape=(2,), dtype=int32)\n",
            "Sample shape: 1\n",
            "Returned sample tensor shape: (1, 1, 1)\n",
            "Sample shape: 2\n",
            "Returned sample tensor shape: (2, 1, 1)\n",
            "Sample shape: [1, 5]\n",
            "Returned sample tensor shape: (1, 5, 1, 1)\n",
            "Sample shape: [3, 4, 5]\n",
            "Returned sample tensor shape: (3, 4, 5, 1, 1)\n",
            "\n"
          ]
        }
      ],
      "source": [
        "def describe_sample_tensor_shape(sample_shape, distribution):\n",
        "    print('Sample shape:', sample_shape)\n",
        "    print('Returned sample tensor shape:', \n",
        "          distribution.sample(sample_shape).shape)\n",
        "\n",
        "def describe_sample_tensor_shapes(distribution_dict, sample_shapes):\n",
        "    started = False\n",
        "    for (name, distribution) in distribution_dict.items():\n",
        "        if started:\n",
        "            print()\n",
        "        describe_distribution(distribution, name)\n",
        "        for sample_shape in sample_shapes:\n",
        "            describe_sample_tensor_shape(sample_shape, distribution)\n",
        "        print()\n",
        "        \n",
        "sample_shapes = [1, 2, [1, 5], [3, 4, 5]]\n",
        "describe_sample_tensor_shapes(poisson_distributions, sample_shapes)"
      ]
    },
    {
      "cell_type": "code",
      "execution_count": 7,
      "metadata": {
        "colab": {
          "autoexec": {
            "startup": false,
            "wait_interval": 0
          },
          "height": 823,
          "output_extras": [
            {
              "item_id": 1
            }
          ]
        },
        "colab_type": "code",
        "executionInfo": {
          "elapsed": 1085,
          "status": "ok",
          "timestamp": 1521586293704,
          "user": {
            "displayName": "",
            "photoUrl": "",
            "userId": ""
          },
          "user_tz": 420
        },
        "id": "qiJK8UBorG40",
        "outputId": "a4270814-8226-4499-d017-08203238f448"
      },
      "outputs": [
        {
          "name": "stdout",
          "output_type": "stream",
          "text": [
            "Standard\n",
            "Event shape: tf.Tensor([], shape=(0,), dtype=int32)\n",
            "Batch shape: tf.Tensor([], shape=(0,), dtype=int32)\n",
            "Sample shape: 1\n",
            "Returned sample tensor shape: (1,)\n",
            "Sample shape: 2\n",
            "Returned sample tensor shape: (2,)\n",
            "Sample shape: [1, 5]\n",
            "Returned sample tensor shape: (1, 5)\n",
            "Sample shape: [3, 4, 5]\n",
            "Returned sample tensor shape: (3, 4, 5)\n",
            "\n",
            "Standard Vector Batch\n",
            "Event shape: tf.Tensor([], shape=(0,), dtype=int32)\n",
            "Batch shape: tf.Tensor([1], shape=(1,), dtype=int32)\n",
            "Sample shape: 1\n",
            "Returned sample tensor shape: (1, 1)\n",
            "Sample shape: 2\n",
            "Returned sample tensor shape: (2, 1)\n",
            "Sample shape: [1, 5]\n",
            "Returned sample tensor shape: (1, 5, 1)\n",
            "Sample shape: [3, 4, 5]\n",
            "Returned sample tensor shape: (3, 4, 5, 1)\n",
            "\n",
            "Different Locs\n",
            "Event shape: tf.Tensor([], shape=(0,), dtype=int32)\n",
            "Batch shape: tf.Tensor([4], shape=(1,), dtype=int32)\n",
            "Sample shape: 1\n",
            "Returned sample tensor shape: (1, 4)\n",
            "Sample shape: 2\n",
            "Returned sample tensor shape: (2, 4)\n",
            "Sample shape: [1, 5]\n",
            "Returned sample tensor shape: (1, 5, 4)\n",
            "Sample shape: [3, 4, 5]\n",
            "Returned sample tensor shape: (3, 4, 5, 4)\n",
            "\n",
            "Broadcasting Scale\n",
            "Event shape: tf.Tensor([], shape=(0,), dtype=int32)\n",
            "Batch shape: tf.Tensor([2 4], shape=(2,), dtype=int32)\n",
            "Sample shape: 1\n",
            "Returned sample tensor shape: (1, 2, 4)\n",
            "Sample shape: 2\n",
            "Returned sample tensor shape: (2, 2, 4)\n",
            "Sample shape: [1, 5]\n",
            "Returned sample tensor shape: (1, 5, 2, 4)\n",
            "Sample shape: [3, 4, 5]\n",
            "Returned sample tensor shape: (3, 4, 5, 2, 4)\n",
            "\n"
          ]
        }
      ],
      "source": [
        "describe_sample_tensor_shapes(normal_distributions, sample_shapes)"
      ]
    },
    {
      "cell_type": "markdown",
      "metadata": {
        "colab_type": "text",
        "id": "wDRB80oLrG48"
      },
      "source": [
        "That's about all there is to say about `sample`: returned sample tensors have shape `[sample_shape, batch_shape, event_shape]`.\n",
        "\n",
        "### Computing `log_prob` For Scalar Distributions\n",
        "\n",
        "Now let's take a look at `log_prob`, which is somewhat trickier. `log_prob` takes as input a (non-empty) tensor representing the location(s) at which to compute the `log_prob` for the distribution. In the most straightforward case, this tensor will have a shape of the form `[sample_shape, batch_shape, event_shape]`, where `batch_shape` and `event_shape` match the batch and event shapes of the distribution. Recall once more that for scalar distributions, `event_shape = []`, so the input tensor has shape `[sample_shape, batch_shape]` In this case, we get back a tensor of shape `[sample_shape, batch_shape]`:"
      ]
    },
    {
      "cell_type": "code",
      "execution_count": 8,
      "metadata": {
        "colab": {
          "autoexec": {
            "startup": false,
            "wait_interval": 0
          },
          "height": 67,
          "output_extras": [
            {
              "item_id": 1
            }
          ]
        },
        "colab_type": "code",
        "executionInfo": {
          "elapsed": 1129,
          "status": "ok",
          "timestamp": 1521586295749,
          "user": {
            "displayName": "",
            "photoUrl": "",
            "userId": ""
          },
          "user_tz": 420
        },
        "id": "UgNIiFf9rG49",
        "outputId": "91517295-e75c-45db-9444-162775273d33"
      },
      "outputs": [
        {
          "data": {
            "text/plain": [
              "\u003ctf.Tensor: id=636, shape=(2, 3), dtype=float32, numpy=\n",
              "array([[  -1.        ,   -2.07856083,   -3.22235107],\n",
              "       [-364.73937988,   -2.07856083,  -95.3948288 ]], dtype=float32)\u003e"
            ]
          },
          "execution_count": 8,
          "metadata": {
            "tags": []
          },
          "output_type": "execute_result"
        }
      ],
      "source": [
        "three_poissons = poisson_distributions['Three Poissons']\n",
        "three_poissons.log_prob([[1., 10., 100.], [100., 10., 1]])  # sample_shape is [2]."
      ]
    },
    {
      "cell_type": "code",
      "execution_count": 9,
      "metadata": {
        "colab": {
          "autoexec": {
            "startup": false,
            "wait_interval": 0
          },
          "height": 67,
          "output_extras": [
            {
              "item_id": 1
            }
          ]
        },
        "colab_type": "code",
        "executionInfo": {
          "elapsed": 1013,
          "status": "ok",
          "timestamp": 1521586297710,
          "user": {
            "displayName": "",
            "photoUrl": "",
            "userId": ""
          },
          "user_tz": 420
        },
        "id": "4szFj9lkrG5F",
        "outputId": "9846a981-c4f5-40de-e164-09c105436585"
      },
      "outputs": [
        {
          "data": {
            "text/plain": [
              "\u003ctf.Tensor: id=643, shape=(1, 1, 2, 3), dtype=float32, numpy=\n",
              "array([[[[  -1.        ,   -2.07856083,   -3.22235107],\n",
              "         [-364.73937988,   -2.07856083,  -95.3948288 ]]]], dtype=float32)\u003e"
            ]
          },
          "execution_count": 9,
          "metadata": {
            "tags": []
          },
          "output_type": "execute_result"
        }
      ],
      "source": [
        "three_poissons.log_prob([[[[1., 10., 100.], [100., 10., 1.]]]])  # sample_shape is [1, 1, 2]."
      ]
    },
    {
      "cell_type": "markdown",
      "metadata": {
        "colab_type": "text",
        "id": "VG_n9BHsrG5M"
      },
      "source": [
        "Note how in the first example, the input and output have shape `[2, 3]` and in the second example they have shape `[1, 1, 2, 3]`.\n",
        "\n",
        "That would be all there was to say, if it weren't for broadcasting. Here are the rules once we take broadcasting into account. We describe it in full generality and note simplifications for scalar distributions:\n",
        "1. Define `n = len(batch_shape) + len(event_shape)`. (For scalar distributions, `len(event_shape)=0`.) \n",
        "2. If the input tensor `t` has fewer than `n` dimensions, pad its shape by adding dimensions of size `1` on the left until it has exactly `n` dimensions. Call the resulting tensor `t'`.\n",
        "3. Broadcast the `n` rightmost dimensions of `t'` against the `[batch_shape, event_shape]` of the distribution you're computing a `log_prob` for. In more detail: for the dimensions where `t'` already matches the distribution, do nothing, and for the dimensions where `t'` has a singleton, replicate that singleton the appropriate number of times. Any other situation is an error. (For scalar distributions, we only broadcast against `batch_shape`, since event_shape = `[]`.)\n",
        "4. Now we're finally able to compute the `log_prob`. The resulting tensor will have shape `[sample_shape, batch_shape]`, where `sample_shape` is defined to be any dimensions of `t` or `t'` to the left of the `n`-rightmost dimensions: `sample_shape = shape(t)[:-n]`.\n",
        "\n",
        "This might be a mess if you don't know what it means, so let's work some examples:"
      ]
    },
    {
      "cell_type": "code",
      "execution_count": 10,
      "metadata": {
        "colab": {
          "autoexec": {
            "startup": false,
            "wait_interval": 0
          },
          "height": 34,
          "output_extras": [
            {
              "item_id": 1
            }
          ]
        },
        "colab_type": "code",
        "executionInfo": {
          "elapsed": 1101,
          "status": "ok",
          "timestamp": 1521586299710,
          "user": {
            "displayName": "",
            "photoUrl": "",
            "userId": ""
          },
          "user_tz": 420
        },
        "id": "YwDVaeRHrG5O",
        "outputId": "a720d899-c9fe-40a6-a7e0-f1cf0fbc7e39"
      },
      "outputs": [
        {
          "data": {
            "text/plain": [
              "\u003ctf.Tensor: id=650, shape=(3,), dtype=float32, numpy=array([-16.10441208,  -2.07856083, -69.05270386], dtype=float32)\u003e"
            ]
          },
          "execution_count": 10,
          "metadata": {
            "tags": []
          },
          "output_type": "execute_result"
        }
      ],
      "source": [
        "three_poissons.log_prob([10.])"
      ]
    },
    {
      "cell_type": "markdown",
      "metadata": {
        "colab_type": "text",
        "id": "xAImEhtdrG5U"
      },
      "source": [
        "The tensor `10.` (with shape `[1]`) is broadcast across the `batch_shape` of 3, so we evaluate all three Poissons' log probability at the value 10. "
      ]
    },
    {
      "cell_type": "code",
      "execution_count": 11,
      "metadata": {
        "colab": {
          "autoexec": {
            "startup": false,
            "wait_interval": 0
          },
          "height": 118,
          "output_extras": [
            {
              "item_id": 1
            }
          ]
        },
        "colab_type": "code",
        "executionInfo": {
          "elapsed": 1051,
          "status": "ok",
          "timestamp": 1521586301702,
          "user": {
            "displayName": "",
            "photoUrl": "",
            "userId": ""
          },
          "user_tz": 420
        },
        "id": "daDAG6p2rG5V",
        "outputId": "cbae6146-fee3-47ba-e5a4-33fb9a031212"
      },
      "outputs": [
        {
          "data": {
            "text/plain": [
              "\u003ctf.Tensor: id=657, shape=(2, 2, 3), dtype=float32, numpy=\n",
              "array([[[ -1.00000000e+00,  -7.69741488e+00,  -9.53948288e+01],\n",
              "        [ -1.61044121e+01,  -2.07856083e+00,  -6.90527039e+01]],\n",
              "\n",
              "       [[ -3.64739380e+02,  -1.43480865e+02,  -3.22235107e+00],\n",
              "        [ -5.91312793e+03,  -3.61954272e+03,  -1.40695752e+03]]], dtype=float32)\u003e"
            ]
          },
          "execution_count": 11,
          "metadata": {
            "tags": []
          },
          "output_type": "execute_result"
        }
      ],
      "source": [
        "three_poissons.log_prob([[[1.], [10.]], [[100.], [1000.]]])"
      ]
    },
    {
      "cell_type": "markdown",
      "metadata": {
        "colab_type": "text",
        "id": "REEX-DgBrG5b"
      },
      "source": [
        "In the above example, the input tensor has shape `[2, 2, 1]`, while the distributions object has a batch shape of 3. So for each of the `[2, 2]` sample dimensions, the single value provided gets broadcats to each of the three Poissons.\n",
        "\n",
        "A possibly useful way to think of it: because `three_poissons` has `batch_shape = [2, 3]`, a call to `log_prob` must take a Tensor whose last dimension is either 1 or 3; anything else is an error. (The numpy broadcasting rules treat the special case of a scalar as being totally equivalent to a Tensor of shape `[1]`.)\n",
        "\n",
        "Let's test our chops by playing with the more complex Poisson distribution with `batch_shape = [2, 3]`:"
      ]
    },
    {
      "cell_type": "code",
      "execution_count": 0,
      "metadata": {
        "colab": {
          "autoexec": {
            "startup": false,
            "wait_interval": 0
          }
        },
        "colab_type": "code",
        "id": "MkSWkwYarG5d"
      },
      "outputs": [],
      "source": [
        "poisson_2_by_3 = poisson_distributions['Two-by-Three Poissons']"
      ]
    },
    {
      "cell_type": "code",
      "execution_count": 13,
      "metadata": {
        "colab": {
          "autoexec": {
            "startup": false,
            "wait_interval": 0
          },
          "height": 67,
          "output_extras": [
            {
              "item_id": 1
            }
          ]
        },
        "colab_type": "code",
        "executionInfo": {
          "elapsed": 1087,
          "status": "ok",
          "timestamp": 1521586305696,
          "user": {
            "displayName": "",
            "photoUrl": "",
            "userId": ""
          },
          "user_tz": 420
        },
        "id": "9YFRkkssrG5f",
        "outputId": "bd7a81d3-affc-4b2e-ee47-14df6451e949"
      },
      "outputs": [
        {
          "data": {
            "text/plain": [
              "\u003ctf.Tensor: id=663, shape=(2, 3), dtype=float32, numpy=\n",
              "array([[  -1.        ,   -7.69741488,  -95.3948288 ],\n",
              "       [  -1.30685282,  -17.00426865, -194.70167542]], dtype=float32)\u003e"
            ]
          },
          "execution_count": 13,
          "metadata": {
            "tags": []
          },
          "output_type": "execute_result"
        }
      ],
      "source": [
        "poisson_2_by_3.log_prob(1.)"
      ]
    },
    {
      "cell_type": "code",
      "execution_count": 14,
      "metadata": {
        "colab": {
          "autoexec": {
            "startup": false,
            "wait_interval": 0
          },
          "height": 67,
          "output_extras": [
            {
              "item_id": 1
            }
          ]
        },
        "colab_type": "code",
        "executionInfo": {
          "elapsed": 1071,
          "status": "ok",
          "timestamp": 1521586307711,
          "user": {
            "displayName": "",
            "photoUrl": "",
            "userId": ""
          },
          "user_tz": 420
        },
        "id": "CqQXvOexrG5i",
        "outputId": "a656cdac-fabc-4936-8ec1-6924378c871e"
      },
      "outputs": [
        {
          "data": {
            "text/plain": [
              "\u003ctf.Tensor: id=670, shape=(2, 3), dtype=float32, numpy=\n",
              "array([[  -1.        ,   -7.69741488,  -95.3948288 ],\n",
              "       [  -1.30685282,  -17.00426865, -194.70167542]], dtype=float32)\u003e"
            ]
          },
          "execution_count": 14,
          "metadata": {
            "tags": []
          },
          "output_type": "execute_result"
        }
      ],
      "source": [
        "poisson_2_by_3.log_prob([1.])  # Exactly equivalent to above, demonstrating the scalar special case."
      ]
    },
    {
      "cell_type": "code",
      "execution_count": 15,
      "metadata": {
        "colab": {
          "autoexec": {
            "startup": false,
            "wait_interval": 0
          },
          "height": 67,
          "output_extras": [
            {
              "item_id": 1
            }
          ]
        },
        "colab_type": "code",
        "executionInfo": {
          "elapsed": 1076,
          "status": "ok",
          "timestamp": 1521586309709,
          "user": {
            "displayName": "",
            "photoUrl": "",
            "userId": ""
          },
          "user_tz": 420
        },
        "id": "1nCuYQC5rG5m",
        "outputId": "fa0d28bd-66db-413c-81fd-2b5d958325bc"
      },
      "outputs": [
        {
          "data": {
            "text/plain": [
              "\u003ctf.Tensor: id=677, shape=(2, 3), dtype=float32, numpy=\n",
              "array([[  -1.        ,   -7.69741488,  -95.3948288 ],\n",
              "       [  -1.30685282,  -17.00426865, -194.70167542]], dtype=float32)\u003e"
            ]
          },
          "execution_count": 15,
          "metadata": {
            "tags": []
          },
          "output_type": "execute_result"
        }
      ],
      "source": [
        "poisson_2_by_3.log_prob([[1., 1., 1.], [1., 1., 1.]])  # Another way to write the same thing. No broadcasting."
      ]
    },
    {
      "cell_type": "code",
      "execution_count": 16,
      "metadata": {
        "colab": {
          "autoexec": {
            "startup": false,
            "wait_interval": 0
          },
          "height": 67,
          "output_extras": [
            {
              "item_id": 1
            }
          ]
        },
        "colab_type": "code",
        "executionInfo": {
          "elapsed": 1029,
          "status": "ok",
          "timestamp": 1521586311697,
          "user": {
            "displayName": "",
            "photoUrl": "",
            "userId": ""
          },
          "user_tz": 420
        },
        "id": "2PgG6udBrG5p",
        "outputId": "6ebbb284-325c-43c3-82b5-ff7b2f27d61d"
      },
      "outputs": [
        {
          "data": {
            "text/plain": [
              "\u003ctf.Tensor: id=684, shape=(2, 3), dtype=float32, numpy=\n",
              "array([[ -1.        ,  -2.07856083,  -3.22235107],\n",
              "       [ -1.30685282,  -5.14708996, -33.90765381]], dtype=float32)\u003e"
            ]
          },
          "execution_count": 16,
          "metadata": {
            "tags": []
          },
          "output_type": "execute_result"
        }
      ],
      "source": [
        "poisson_2_by_3.log_prob([[1., 10., 100.]])  # Input is [1, 3] broadcast to [2, 3]."
      ]
    },
    {
      "cell_type": "code",
      "execution_count": 17,
      "metadata": {
        "colab": {
          "autoexec": {
            "startup": false,
            "wait_interval": 0
          },
          "height": 67,
          "output_extras": [
            {
              "item_id": 1
            }
          ]
        },
        "colab_type": "code",
        "executionInfo": {
          "elapsed": 1028,
          "status": "ok",
          "timestamp": 1521586313699,
          "user": {
            "displayName": "",
            "photoUrl": "",
            "userId": ""
          },
          "user_tz": 420
        },
        "id": "Gm7ejyoArG5s",
        "outputId": "eb3bb495-d6ed-4a06-abbe-9a04fd1c3870"
      },
      "outputs": [
        {
          "data": {
            "text/plain": [
              "\u003ctf.Tensor: id=691, shape=(2, 3), dtype=float32, numpy=\n",
              "array([[ -1.        ,  -2.07856083,  -3.22235107],\n",
              "       [ -1.30685282,  -5.14708996, -33.90765381]], dtype=float32)\u003e"
            ]
          },
          "execution_count": 17,
          "metadata": {
            "tags": []
          },
          "output_type": "execute_result"
        }
      ],
      "source": [
        "poisson_2_by_3.log_prob([[1., 10., 100.], [1., 10., 100.]])  # Equivalent to above. No broadcasting."
      ]
    },
    {
      "cell_type": "code",
      "execution_count": 18,
      "metadata": {
        "colab": {
          "autoexec": {
            "startup": false,
            "wait_interval": 0
          },
          "height": 67,
          "output_extras": [
            {
              "item_id": 1
            }
          ]
        },
        "colab_type": "code",
        "executionInfo": {
          "elapsed": 1289,
          "status": "ok",
          "timestamp": 1521586315946,
          "user": {
            "displayName": "",
            "photoUrl": "",
            "userId": ""
          },
          "user_tz": 420
        },
        "id": "mVMSGVvGrG5w",
        "outputId": "4355df78-15e4-4062-c5d3-d0e972a23bea"
      },
      "outputs": [
        {
          "data": {
            "text/plain": [
              "\u003ctf.Tensor: id=698, shape=(2, 3), dtype=float32, numpy=\n",
              "array([[  -1.        ,   -7.69741488,  -95.3948288 ],\n",
              "       [  -1.30685282,  -14.70168304, -190.09651184]], dtype=float32)\u003e"
            ]
          },
          "execution_count": 18,
          "metadata": {
            "tags": []
          },
          "output_type": "execute_result"
        }
      ],
      "source": [
        "poisson_2_by_3.log_prob([[1., 1., 1.], [2., 2., 2.]])  # No broadcasting."
      ]
    },
    {
      "cell_type": "code",
      "execution_count": 19,
      "metadata": {
        "colab": {
          "autoexec": {
            "startup": false,
            "wait_interval": 0
          },
          "height": 67,
          "output_extras": [
            {
              "item_id": 1
            }
          ]
        },
        "colab_type": "code",
        "executionInfo": {
          "elapsed": 1120,
          "status": "ok",
          "timestamp": 1521586317748,
          "user": {
            "displayName": "",
            "photoUrl": "",
            "userId": ""
          },
          "user_tz": 420
        },
        "id": "OVEpi5QErG5z",
        "outputId": "916ce2ab-b8c5-4779-b369-5d51b2ab17e3"
      },
      "outputs": [
        {
          "data": {
            "text/plain": [
              "\u003ctf.Tensor: id=705, shape=(2, 3), dtype=float32, numpy=\n",
              "array([[  -1.        ,   -7.69741488,  -95.3948288 ],\n",
              "       [  -1.30685282,  -14.70168304, -190.09651184]], dtype=float32)\u003e"
            ]
          },
          "execution_count": 19,
          "metadata": {
            "tags": []
          },
          "output_type": "execute_result"
        }
      ],
      "source": [
        "poisson_2_by_3.log_prob([[1.], [2.]])  # Equivalent to above. Input shape [2, 1] broadcast to [2, 3]."
      ]
    },
    {
      "cell_type": "markdown",
      "metadata": {
        "colab_type": "text",
        "id": "ZW2tApDGrG53"
      },
      "source": [
        "The above examples involved broadcasting over the batch, but the sample shape was empty. Suppose we have a collection of values, and we want to get the log probability of each value at each point in the batch. We could do it manually:"
      ]
    },
    {
      "cell_type": "code",
      "execution_count": 20,
      "metadata": {
        "colab": {
          "autoexec": {
            "startup": false,
            "wait_interval": 0
          },
          "height": 118,
          "output_extras": [
            {
              "item_id": 1
            }
          ]
        },
        "colab_type": "code",
        "executionInfo": {
          "elapsed": 1093,
          "status": "ok",
          "timestamp": 1521586319742,
          "user": {
            "displayName": "",
            "photoUrl": "",
            "userId": ""
          },
          "user_tz": 420
        },
        "id": "03DvnmK2rG53",
        "outputId": "4bb47def-59cf-4b65-aa26-f804dabcfbea"
      },
      "outputs": [
        {
          "data": {
            "text/plain": [
              "\u003ctf.Tensor: id=712, shape=(2, 2, 3), dtype=float32, numpy=\n",
              "array([[[  -1.        ,   -7.69741488,  -95.3948288 ],\n",
              "        [  -1.30685282,  -17.00426865, -194.70167542]],\n",
              "\n",
              "       [[  -1.69314718,   -6.08797693,  -91.48280334],\n",
              "        [  -1.30685282,  -14.70168304, -190.09651184]]], dtype=float32)\u003e"
            ]
          },
          "execution_count": 20,
          "metadata": {
            "tags": []
          },
          "output_type": "execute_result"
        }
      ],
      "source": [
        "poisson_2_by_3.log_prob([[[1., 1., 1.], [1., 1., 1.]], [[2., 2., 2.], [2., 2., 2.]]])  # Input shape [2, 2, 3]."
      ]
    },
    {
      "cell_type": "markdown",
      "metadata": {
        "colab_type": "text",
        "id": "XkpJQ0dJrG56"
      },
      "source": [
        "Or we could let broadcasting handle the last batch dimension:"
      ]
    },
    {
      "cell_type": "code",
      "execution_count": 21,
      "metadata": {
        "colab": {
          "autoexec": {
            "startup": false,
            "wait_interval": 0
          },
          "height": 118,
          "output_extras": [
            {
              "item_id": 1
            }
          ]
        },
        "colab_type": "code",
        "executionInfo": {
          "elapsed": 1136,
          "status": "ok",
          "timestamp": 1521586321750,
          "user": {
            "displayName": "",
            "photoUrl": "",
            "userId": ""
          },
          "user_tz": 420
        },
        "id": "KJ6OsodCrG57",
        "outputId": "e4802962-a67c-4b72-a335-ce77c96d612c"
      },
      "outputs": [
        {
          "data": {
            "text/plain": [
              "\u003ctf.Tensor: id=719, shape=(2, 2, 3), dtype=float32, numpy=\n",
              "array([[[  -1.        ,   -7.69741488,  -95.3948288 ],\n",
              "        [  -1.30685282,  -17.00426865, -194.70167542]],\n",
              "\n",
              "       [[  -1.69314718,   -6.08797693,  -91.48280334],\n",
              "        [  -1.30685282,  -14.70168304, -190.09651184]]], dtype=float32)\u003e"
            ]
          },
          "execution_count": 21,
          "metadata": {
            "tags": []
          },
          "output_type": "execute_result"
        }
      ],
      "source": [
        "poisson_2_by_3.log_prob([[[1.], [1.]], [[2.], [2.]]])  # Input shape [2, 2, 1]."
      ]
    },
    {
      "cell_type": "markdown",
      "metadata": {
        "colab_type": "text",
        "id": "eZFx8pThrG5-"
      },
      "source": [
        "We can also (perhaps somewhat less naturally) let broadcasting handle just the first batch dimension:"
      ]
    },
    {
      "cell_type": "code",
      "execution_count": 22,
      "metadata": {
        "colab": {
          "autoexec": {
            "startup": false,
            "wait_interval": 0
          },
          "height": 118,
          "output_extras": [
            {
              "item_id": 1
            }
          ]
        },
        "colab_type": "code",
        "executionInfo": {
          "elapsed": 1143,
          "status": "ok",
          "timestamp": 1521586323746,
          "user": {
            "displayName": "",
            "photoUrl": "",
            "userId": ""
          },
          "user_tz": 420
        },
        "id": "UoGs7GBSrG5_",
        "outputId": "765024a0-9eb7-4129-8986-7d6812aad142"
      },
      "outputs": [
        {
          "data": {
            "text/plain": [
              "\u003ctf.Tensor: id=726, shape=(2, 2, 3), dtype=float32, numpy=\n",
              "array([[[  -1.        ,   -7.69741488,  -95.3948288 ],\n",
              "        [  -1.30685282,  -17.00426865, -194.70167542]],\n",
              "\n",
              "       [[  -1.69314718,   -6.08797693,  -91.48280334],\n",
              "        [  -1.30685282,  -14.70168304, -190.09651184]]], dtype=float32)\u003e"
            ]
          },
          "execution_count": 22,
          "metadata": {
            "tags": []
          },
          "output_type": "execute_result"
        }
      ],
      "source": [
        "poisson_2_by_3.log_prob([[[1., 1., 1.]], [[2., 2., 2.]]])  # Input shape [2, 1, 3]."
      ]
    },
    {
      "cell_type": "markdown",
      "metadata": {
        "colab_type": "text",
        "id": "cOP4OhGDrG6C"
      },
      "source": [
        "Or we could let broadcasting handle *both* batch dimensions:"
      ]
    },
    {
      "cell_type": "code",
      "execution_count": 23,
      "metadata": {
        "colab": {
          "autoexec": {
            "startup": false,
            "wait_interval": 0
          },
          "height": 118,
          "output_extras": [
            {
              "item_id": 1
            }
          ]
        },
        "colab_type": "code",
        "executionInfo": {
          "elapsed": 1085,
          "status": "ok",
          "timestamp": 1521586325749,
          "user": {
            "displayName": "",
            "photoUrl": "",
            "userId": ""
          },
          "user_tz": 420
        },
        "id": "tnG2f4tZrG6E",
        "outputId": "ec2a018b-a237-446c-9b1c-8e03d1df1354"
      },
      "outputs": [
        {
          "data": {
            "text/plain": [
              "\u003ctf.Tensor: id=733, shape=(2, 2, 3), dtype=float32, numpy=\n",
              "array([[[  -1.        ,   -7.69741488,  -95.3948288 ],\n",
              "        [  -1.30685282,  -17.00426865, -194.70167542]],\n",
              "\n",
              "       [[  -1.69314718,   -6.08797693,  -91.48280334],\n",
              "        [  -1.30685282,  -14.70168304, -190.09651184]]], dtype=float32)\u003e"
            ]
          },
          "execution_count": 23,
          "metadata": {
            "tags": []
          },
          "output_type": "execute_result"
        }
      ],
      "source": [
        "poisson_2_by_3.log_prob([[[1.]], [[2.]]])  # Input shape [2, 1, 1]."
      ]
    },
    {
      "cell_type": "markdown",
      "metadata": {
        "colab_type": "text",
        "id": "I1s1drAwrG6K"
      },
      "source": [
        "The above worked fine when we had only two values we wanted, but suppose we had a long list of values we wanted to evaluate at every batch point. For that, the following notation, which adds extra dimensions of size 1 to the right side of the shape, is extremely useful:"
      ]
    },
    {
      "cell_type": "code",
      "execution_count": 24,
      "metadata": {
        "colab": {
          "autoexec": {
            "startup": false,
            "wait_interval": 0
          },
          "height": 118,
          "output_extras": [
            {
              "item_id": 1
            }
          ]
        },
        "colab_type": "code",
        "executionInfo": {
          "elapsed": 1116,
          "status": "ok",
          "timestamp": 1521586327751,
          "user": {
            "displayName": "",
            "photoUrl": "",
            "userId": ""
          },
          "user_tz": 420
        },
        "id": "oUxbYZN_rG6K",
        "outputId": "e67b25f3-89c8-4c89-9bd6-48beaa9c3446"
      },
      "outputs": [
        {
          "data": {
            "text/plain": [
              "\u003ctf.Tensor: id=744, shape=(2, 2, 3), dtype=float32, numpy=\n",
              "array([[[  -1.        ,   -7.69741488,  -95.3948288 ],\n",
              "        [  -1.30685282,  -17.00426865, -194.70167542]],\n",
              "\n",
              "       [[  -1.69314718,   -6.08797693,  -91.48280334],\n",
              "        [  -1.30685282,  -14.70168304, -190.09651184]]], dtype=float32)\u003e"
            ]
          },
          "execution_count": 24,
          "metadata": {
            "tags": []
          },
          "output_type": "execute_result"
        }
      ],
      "source": [
        "poisson_2_by_3.log_prob(tf.constant([1., 2.])[..., tf.newaxis, tf.newaxis])"
      ]
    },
    {
      "cell_type": "markdown",
      "metadata": {
        "colab_type": "text",
        "id": "Se893aIurG6M"
      },
      "source": [
        "This is an instance of [strided slice notation](https://www.tensorflow.org/api_docs/cc/class/tensorflow/ops/strided-slice), which is worth knowing."
      ]
    },
    {
      "cell_type": "markdown",
      "metadata": {
        "colab_type": "text",
        "id": "XNDhHqJmrG6N"
      },
      "source": [
        "Going back to `three_poissons` for completeness, the same example looks like:"
      ]
    },
    {
      "cell_type": "code",
      "execution_count": 25,
      "metadata": {
        "colab": {
          "autoexec": {
            "startup": false,
            "wait_interval": 0
          },
          "height": 101,
          "output_extras": [
            {
              "item_id": 1
            }
          ]
        },
        "colab_type": "code",
        "executionInfo": {
          "elapsed": 1139,
          "status": "ok",
          "timestamp": 1521586329762,
          "user": {
            "displayName": "",
            "photoUrl": "",
            "userId": ""
          },
          "user_tz": 420
        },
        "id": "zKP7OmQsrG6N",
        "outputId": "4e6618db-ebc6-4f04-9f59-4e56c0225a60"
      },
      "outputs": [
        {
          "data": {
            "text/plain": [
              "\u003ctf.Tensor: id=751, shape=(4, 3), dtype=float32, numpy=\n",
              "array([[  -1.        ,   -7.69741488,  -95.3948288 ],\n",
              "       [ -16.10441208,   -2.07856083,  -69.05270386],\n",
              "       [-149.47776794,  -43.34851074,  -18.21925354],\n",
              "       [-364.73937988, -143.48086548,   -3.22235107]], dtype=float32)\u003e"
            ]
          },
          "execution_count": 25,
          "metadata": {
            "tags": []
          },
          "output_type": "execute_result"
        }
      ],
      "source": [
        "three_poissons.log_prob([[1.], [10.], [50.], [100.]])"
      ]
    },
    {
      "cell_type": "code",
      "execution_count": 26,
      "metadata": {
        "colab": {
          "autoexec": {
            "startup": false,
            "wait_interval": 0
          },
          "height": 101,
          "output_extras": [
            {
              "item_id": 1
            }
          ]
        },
        "colab_type": "code",
        "executionInfo": {
          "elapsed": 1110,
          "status": "ok",
          "timestamp": 1521586331747,
          "user": {
            "displayName": "",
            "photoUrl": "",
            "userId": ""
          },
          "user_tz": 420
        },
        "id": "PK_9DwSdrG6R",
        "outputId": "862c86a8-3644-440a-df4b-b4ef0e8a927c"
      },
      "outputs": [
        {
          "data": {
            "text/plain": [
              "\u003ctf.Tensor: id=762, shape=(4, 3), dtype=float32, numpy=\n",
              "array([[  -1.        ,   -7.69741488,  -95.3948288 ],\n",
              "       [ -16.10441208,   -2.07856083,  -69.05270386],\n",
              "       [-149.47776794,  -43.34851074,  -18.21925354],\n",
              "       [-364.73937988, -143.48086548,   -3.22235107]], dtype=float32)\u003e"
            ]
          },
          "execution_count": 26,
          "metadata": {
            "tags": []
          },
          "output_type": "execute_result"
        }
      ],
      "source": [
        "three_poissons.log_prob(tf.constant([1., 10., 50., 100.])[..., tf.newaxis])  # Equivalent to above."
      ]
    },
    {
      "cell_type": "markdown",
      "metadata": {
        "colab_type": "text",
        "id": "lhL17DW5rG6T"
      },
      "source": [
        "## Multivariate distributions\n",
        "\n",
        "We now turn to multivariate distributions, which have non-empty event shape. Let's look at multinomial distributions."
      ]
    },
    {
      "cell_type": "code",
      "execution_count": 27,
      "metadata": {
        "colab": {
          "autoexec": {
            "startup": false,
            "wait_interval": 0
          },
          "height": 269,
          "output_extras": [
            {
              "item_id": 1
            }
          ]
        },
        "colab_type": "code",
        "executionInfo": {
          "elapsed": 1255,
          "status": "ok",
          "timestamp": 1521586333857,
          "user": {
            "displayName": "",
            "photoUrl": "",
            "userId": ""
          },
          "user_tz": 420
        },
        "id": "lOdGa5n9rG6T",
        "outputId": "f0b5a6ca-2053-41a7-c536-ccde7d0f2c26"
      },
      "outputs": [
        {
          "name": "stdout",
          "output_type": "stream",
          "text": [
            "One Multinomial\n",
            "Event shape: tf.Tensor([3], shape=(1,), dtype=int32)\n",
            "Batch shape: tf.Tensor([], shape=(0,), dtype=int32)\n",
            "\n",
            "Two Multinomials Same Probs\n",
            "Event shape: tf.Tensor([3], shape=(1,), dtype=int32)\n",
            "Batch shape: tf.Tensor([2], shape=(1,), dtype=int32)\n",
            "\n",
            "Two Multinomials Same Counts\n",
            "Event shape: tf.Tensor([3], shape=(1,), dtype=int32)\n",
            "Batch shape: tf.Tensor([2], shape=(1,), dtype=int32)\n",
            "\n",
            "Two Multinomials Different Everything\n",
            "Event shape: tf.Tensor([3], shape=(1,), dtype=int32)\n",
            "Batch shape: tf.Tensor([2], shape=(1,), dtype=int32)\n"
          ]
        }
      ],
      "source": [
        "multinomial_distributions = collections.OrderedDict([\n",
        "    # Multinomial is a vector-valued distribution: if we have k classes, an individual sample from the\n",
        "    # distribution has k values in it, so the event_shape is `[k]`.\n",
        "    ('One Multinomial', tfd.Multinomial(total_count=100., probs=[.5, .4, .1])),\n",
        "    ('Two Multinomials Same Probs',\n",
        "     tfd.Multinomial(total_count=[100., 1000.], probs=[.5, .4, .1])),\n",
        "    ('Two Multinomials Same Counts', \n",
        "     tfd.Multinomial(total_count=100., probs=[[.5, .4, .1], [.1, .2, .7]])),\n",
        "    ('Two Multinomials Different Everything',\n",
        "        tfd.Multinomial(total_count=[100., 1000.],\n",
        "                        probs=[[.5, .4, .1], [.1, .2, .7]]))    \n",
        "])\n",
        "\n",
        "describe_distributions(multinomial_distributions)"
      ]
    },
    {
      "cell_type": "markdown",
      "metadata": {
        "colab_type": "text",
        "id": "-NQ8gK7irG6W"
      },
      "source": [
        "Note how in the last three examples, the batch_shape is always `[2]`, but we can use broadcasting to either have a shared `total_count` or a shared `probs` (or neither), because under the hood they are broadcast to have the same shape.\n",
        "\n",
        "Sampling is straightforward, given what we know already:"
      ]
    },
    {
      "cell_type": "code",
      "execution_count": 28,
      "metadata": {
        "colab": {
          "autoexec": {
            "startup": false,
            "wait_interval": 0
          },
          "height": 823,
          "output_extras": [
            {
              "item_id": 3
            }
          ]
        },
        "colab_type": "code",
        "executionInfo": {
          "elapsed": 1254,
          "status": "ok",
          "timestamp": 1521586335873,
          "user": {
            "displayName": "",
            "photoUrl": "",
            "userId": ""
          },
          "user_tz": 420
        },
        "id": "hSr362qjrG6W",
        "outputId": "43dd2e53-8065-4d5d-bc30-49ec69b23e8e"
      },
      "outputs": [
        {
          "name": "stdout",
          "output_type": "stream",
          "text": [
            "One Multinomial\n",
            "Event shape: tf.Tensor([3], shape=(1,), dtype=int32)\n",
            "Batch shape: tf.Tensor([], shape=(0,), dtype=int32)\n",
            "Sample shape: 1\n",
            "Returned sample tensor shape: (1, 3)\n",
            "Sample shape: 2\n",
            "Returned sample tensor shape: (2, 3)\n",
            "Sample shape: [1, 5]\n",
            "Returned sample tensor shape: (1, 5, 3)\n",
            "Sample shape: [3, 4, 5]\n",
            "Returned sample tensor shape: (3, 4, 5, 3)\n",
            "\n",
            "Two Multinomials Same Probs\n",
            "Event shape: tf.Tensor([3], shape=(1,), dtype=int32)\n",
            "Batch shape: tf.Tensor([2], shape=(1,), dtype=int32)\n",
            "Sample shape: 1\n",
            "Returned sample tensor shape: (1, 2, 3)\n",
            "Sample shape: 2\n",
            "Returned sample tensor shape: (2, 2, 3)\n",
            "Sample shape: [1, 5]\n",
            "Returned sample tensor shape: (1, 5, 2, 3)\n",
            "Sample shape: [3, 4, 5]\n",
            "Returned sample tensor shape: (3, 4, 5, 2, 3)\n",
            "\n",
            "Two Multinomials Same Counts\n",
            "Event shape: tf.Tensor([3], shape=(1,), dtype=int32)\n",
            "Batch shape: tf.Tensor([2], shape=(1,), dtype=int32)\n",
            "Sample shape: 1\n",
            "Returned sample tensor shape: (1, 2, 3)\n",
            "Sample shape: 2\n",
            "Returned sample tensor shape: (2, 2, 3)\n",
            "Sample shape: [1, 5]\n",
            "Returned sample tensor shape: (1, 5, 2, 3)\n",
            "Sample shape: [3, 4, 5]\n",
            "Returned sample tensor shape: (3, 4, 5, 2, 3)\n",
            "\n",
            "Two Multinomials Different Everything\n",
            "Event shape: tf.Tensor([3], shape=(1,), dtype=int32)\n",
            "Batch shape: tf.Tensor([2], shape=(1,), dtype=int32)\n",
            "Sample shape: 1\n",
            "Returned sample tensor shape: (1, 2, 3)\n",
            "Sample shape: 2\n",
            "Returned sample tensor shape: (2, 2, 3)\n",
            "Sample shape: [1, 5]\n",
            "Returned sample tensor shape: (1, 5, 2, 3)\n",
            "Sample shape: [3, 4, 5]\n",
            "Returned sample tensor shape: (3, 4, 5, 2, 3)\n",
            "\n"
          ]
        }
      ],
      "source": [
        "describe_sample_tensor_shapes(multinomial_distributions, sample_shapes)"
      ]
    },
    {
      "cell_type": "markdown",
      "metadata": {
        "colab_type": "text",
        "id": "jjXgxPXCrG6Z"
      },
      "source": [
        "Computing log probabilities is equally straightforward. Let's work an example with diagonal Multivariate Normal distributions. (Multinomials are not very broadcast friendly, since the constraints on the counts and probabilities mean broadcasting will often produce inadmissible values.) We'll use a batch of 2 3-dimensional distributions with the same mean but different scales (standard deviations):"
      ]
    },
    {
      "cell_type": "code",
      "execution_count": 29,
      "metadata": {
        "colab": {
          "autoexec": {
            "startup": false,
            "wait_interval": 0
          },
          "height": 51,
          "output_extras": [
            {
              "item_id": 1
            }
          ]
        },
        "colab_type": "code",
        "executionInfo": {
          "elapsed": 1120,
          "status": "ok",
          "timestamp": 1521586337748,
          "user": {
            "displayName": "",
            "photoUrl": "",
            "userId": ""
          },
          "user_tz": 420
        },
        "id": "cnywBQdZrG6Z",
        "outputId": "e2c6732b-3a79-487b-e54c-c6f32f9914a1"
      },
      "outputs": [
        {
          "name": "stdout",
          "output_type": "stream",
          "text": [
            "Event shape: tf.Tensor([3], shape=(1,), dtype=int32)\n",
            "Batch shape: tf.Tensor([2], shape=(1,), dtype=int32)\n"
          ]
        }
      ],
      "source": [
        "two_multivariate_normals = tfd.MultivariateNormalDiag(loc=[1., 2., 3.], scale_identity_multiplier=[1., 2.])\n",
        "describe_distribution(two_multivariate_normals)"
      ]
    },
    {
      "cell_type": "markdown",
      "metadata": {
        "colab_type": "text",
        "id": "S9xE21IirG6b"
      },
      "source": [
        "(Note that although we used distributions where the scales were multiples of the identity, this is not a restriction on; we could pass `scale` instead of `scale_identity_multiplier`.)\n",
        "\n",
        "Now let's evaluate the log probability of each batch point at its mean and at a shifted mean:"
      ]
    },
    {
      "cell_type": "code",
      "execution_count": 30,
      "metadata": {
        "colab": {
          "autoexec": {
            "startup": false,
            "wait_interval": 0
          },
          "height": 67,
          "output_extras": [
            {
              "item_id": 1
            }
          ]
        },
        "colab_type": "code",
        "executionInfo": {
          "elapsed": 1138,
          "status": "ok",
          "timestamp": 1521586339753,
          "user": {
            "displayName": "",
            "photoUrl": "",
            "userId": ""
          },
          "user_tz": 420
        },
        "id": "YBOLH33PrG6b",
        "outputId": "f2f6476d-3194-4113-d433-622a125d48ac"
      },
      "outputs": [
        {
          "data": {
            "text/plain": [
              "\u003ctf.Tensor: id=2264, shape=(2, 2), dtype=float32, numpy=\n",
              "array([[-2.75681543, -4.83625698],\n",
              "       [-8.75681591, -6.33625698]], dtype=float32)\u003e"
            ]
          },
          "execution_count": 30,
          "metadata": {
            "tags": []
          },
          "output_type": "execute_result"
        }
      ],
      "source": [
        "two_multivariate_normals.log_prob([[[1., 2., 3.]], [[3., 4., 5.]]])  # Input has shape [2,1,3]."
      ]
    },
    {
      "cell_type": "markdown",
      "metadata": {
        "colab_type": "text",
        "id": "oPDC6y3qrG6e"
      },
      "source": [
        "Exactly equivalently, we can use [https://www.tensorflow.org/api_docs/cc/class/tensorflow/ops/strided-slice](strided slice notation) to insert an extra shape=1 dimension in the middle of a constant: "
      ]
    },
    {
      "cell_type": "code",
      "execution_count": 31,
      "metadata": {
        "colab": {
          "autoexec": {
            "startup": false,
            "wait_interval": 0
          },
          "height": 67,
          "output_extras": [
            {
              "item_id": 1
            }
          ]
        },
        "colab_type": "code",
        "executionInfo": {
          "elapsed": 1098,
          "status": "ok",
          "timestamp": 1521586341745,
          "user": {
            "displayName": "",
            "photoUrl": "",
            "userId": ""
          },
          "user_tz": 420
        },
        "id": "M9m9GMezrG6f",
        "outputId": "97cb72e7-6167-4e76-9382-fc839c9b6ef6"
      },
      "outputs": [
        {
          "data": {
            "text/plain": [
              "\u003ctf.Tensor: id=2346, shape=(2, 2), dtype=float32, numpy=\n",
              "array([[-2.75681543, -4.83625698],\n",
              "       [-8.75681591, -6.33625698]], dtype=float32)\u003e"
            ]
          },
          "execution_count": 31,
          "metadata": {
            "tags": []
          },
          "output_type": "execute_result"
        }
      ],
      "source": [
        "two_multivariate_normals.log_prob(tf.constant([[1., 2., 3.], [3., 4., 5.]])[:, tf.newaxis, :])  # Equivalent to above."
      ]
    },
    {
      "cell_type": "markdown",
      "metadata": {
        "colab_type": "text",
        "id": "jJA07wN7rG6i"
      },
      "source": [
        "On the other hand, if we don't insert the extra dimension, we pass `[1., 2., 3.]` to the first batch point and `[3., 4., 5.]` to the second:"
      ]
    },
    {
      "cell_type": "code",
      "execution_count": 32,
      "metadata": {
        "colab": {
          "autoexec": {
            "startup": false,
            "wait_interval": 0
          },
          "height": 34,
          "output_extras": [
            {
              "item_id": 1
            }
          ]
        },
        "colab_type": "code",
        "executionInfo": {
          "elapsed": 1122,
          "status": "ok",
          "timestamp": 1521586343761,
          "user": {
            "displayName": "",
            "photoUrl": "",
            "userId": ""
          },
          "user_tz": 420
        },
        "id": "xaX1unvPrG6i",
        "outputId": "6439dcf0-d635-44c1-a7f9-5d490ce4868d"
      },
      "outputs": [
        {
          "data": {
            "text/plain": [
              "\u003ctf.Tensor: id=2424, shape=(2,), dtype=float32, numpy=array([-2.75681543, -6.33625698], dtype=float32)\u003e"
            ]
          },
          "execution_count": 32,
          "metadata": {
            "tags": []
          },
          "output_type": "execute_result"
        }
      ],
      "source": [
        "two_multivariate_normals.log_prob(tf.constant([[1., 2., 3.], [3., 4., 5.]]))"
      ]
    },
    {
      "cell_type": "markdown",
      "metadata": {
        "colab_type": "text",
        "id": "JnhW86vcUfT8"
      },
      "source": [
        "## Shape Manipulation Techniques"
      ]
    },
    {
      "cell_type": "markdown",
      "metadata": {
        "colab_type": "text",
        "id": "6EYcFW7OrG6m"
      },
      "source": [
        "### The Reshape Bijector\n",
        "\n",
        "The `Reshape` bijector can be used to reshape the *event_shape* of a distribution. Let's see an example:"
      ]
    },
    {
      "cell_type": "code",
      "execution_count": 33,
      "metadata": {
        "colab": {
          "autoexec": {
            "startup": false,
            "wait_interval": 0
          },
          "height": 51,
          "output_extras": [
            {
              "item_id": 1
            }
          ]
        },
        "colab_type": "code",
        "executionInfo": {
          "elapsed": 1144,
          "status": "ok",
          "timestamp": 1521586345736,
          "user": {
            "displayName": "",
            "photoUrl": "",
            "userId": ""
          },
          "user_tz": 420
        },
        "id": "1YT_lQCarG6m",
        "outputId": "62b7ed92-4cbb-467b-8c6b-d4c419b0a07a"
      },
      "outputs": [
        {
          "name": "stdout",
          "output_type": "stream",
          "text": [
            "Event shape: tf.Tensor([6], shape=(1,), dtype=int32)\n",
            "Batch shape: tf.Tensor([], shape=(0,), dtype=int32)\n"
          ]
        }
      ],
      "source": [
        "six_way_multinomial = tfd.Multinomial(total_count=1000., probs=[.3, .25, .2, .15, .08, .02])\n",
        "describe_distribution(six_way_multinomial)"
      ]
    },
    {
      "cell_type": "markdown",
      "metadata": {
        "colab_type": "text",
        "id": "c5a5uXQsUpMs"
      },
      "source": [
        "We created a multinomial with an event shape of `[6]`. The Reshape Bijector allows us to treat this as a distribution with an event shape of `[2, 3]`.\n",
        "\n",
        "A `Bijector` represents a differentiable, one-to-one function on an open subset of ${\\mathbb R}^n$. `Bijectors` are used in conjunction with `TransformedDistribution`, which models a distribution $p(y)$ in terms of a base distribution $p(x)$ and a `Bijector` that represents $Y = g(X)$.\n",
        "Let's see it in action:"
      ]
    },
    {
      "cell_type": "code",
      "execution_count": 34,
      "metadata": {
        "colab": {
          "autoexec": {
            "startup": false,
            "wait_interval": 0
          },
          "height": 51,
          "output_extras": [
            {
              "item_id": 1
            }
          ]
        },
        "colab_type": "code",
        "executionInfo": {
          "elapsed": 1169,
          "status": "ok",
          "timestamp": 1521586347776,
          "user": {
            "displayName": "",
            "photoUrl": "",
            "userId": ""
          },
          "user_tz": 420
        },
        "id": "Wttfn9Q-rG6o",
        "outputId": "f925cb7b-bcfb-4c3e-9ac1-bce5b7158924"
      },
      "outputs": [
        {
          "name": "stdout",
          "output_type": "stream",
          "text": [
            "Event shape: tf.Tensor([2 3], shape=(2,), dtype=int32)\n",
            "Batch shape: tf.Tensor([], shape=(0,), dtype=int32)\n"
          ]
        }
      ],
      "source": [
        "transformed_multinomial = tfd.TransformedDistribution(\n",
        "    distribution=six_way_multinomial,\n",
        "    bijector=tfb.Reshape(event_shape_out=[2, 3]))\n",
        "describe_distribution(transformed_multinomial)"
      ]
    },
    {
      "cell_type": "code",
      "execution_count": 35,
      "metadata": {
        "colab": {
          "autoexec": {
            "startup": false,
            "wait_interval": 0
          },
          "height": 34,
          "output_extras": [
            {
              "item_id": 1
            }
          ]
        },
        "colab_type": "code",
        "executionInfo": {
          "elapsed": 1150,
          "status": "ok",
          "timestamp": 1521586349749,
          "user": {
            "displayName": "",
            "photoUrl": "",
            "userId": ""
          },
          "user_tz": 420
        },
        "id": "sh6l4XZdrG6p",
        "outputId": "99d87085-279b-447e-b55e-71f455ea34f9"
      },
      "outputs": [
        {
          "data": {
            "text/plain": [
              "\u003ctf.Tensor: id=2538, shape=(), dtype=float32, numpy=-178.22021\u003e"
            ]
          },
          "execution_count": 35,
          "metadata": {
            "tags": []
          },
          "output_type": "execute_result"
        }
      ],
      "source": [
        "six_way_multinomial.log_prob([500., 100., 100., 150., 100., 50.])"
      ]
    },
    {
      "cell_type": "code",
      "execution_count": 36,
      "metadata": {
        "colab": {
          "autoexec": {
            "startup": false,
            "wait_interval": 0
          },
          "height": 34,
          "output_extras": [
            {
              "item_id": 1
            }
          ]
        },
        "colab_type": "code",
        "executionInfo": {
          "elapsed": 1090,
          "status": "ok",
          "timestamp": 1521586351769,
          "user": {
            "displayName": "",
            "photoUrl": "",
            "userId": ""
          },
          "user_tz": 420
        },
        "id": "6nMHlVrArG6r",
        "outputId": "0f37f580-1c5f-4202-ca45-4889cc8cbcdf"
      },
      "outputs": [
        {
          "data": {
            "text/plain": [
              "\u003ctf.Tensor: id=2578, shape=(), dtype=float32, numpy=-178.22021\u003e"
            ]
          },
          "execution_count": 36,
          "metadata": {
            "tags": []
          },
          "output_type": "execute_result"
        }
      ],
      "source": [
        "transformed_multinomial.log_prob([[500., 100., 100.], [150., 100., 50.]])"
      ]
    },
    {
      "cell_type": "markdown",
      "metadata": {
        "colab_type": "text",
        "id": "dxZNZ02OrG6t"
      },
      "source": [
        "This is the *only* thing the `Reshape` bijector can do: it cannot turn event dimensions into batch dimensions or vice-versa."
      ]
    },
    {
      "cell_type": "markdown",
      "metadata": {
        "colab_type": "text",
        "id": "de7ek-FerG6t"
      },
      "source": [
        "### The Independent Distribution\n",
        "\n",
        "The `Independent` distribution is used to treat a collection of independent, not-necessarily-identical (aka a batch of) distributions as a single distribution. More concisely, `Independent` allows to convert dimensions in `batch_shape` to dimensions in `event_shape`. We'll illustrate by example:"
      ]
    },
    {
      "cell_type": "code",
      "execution_count": 37,
      "metadata": {
        "colab": {
          "autoexec": {
            "startup": false,
            "wait_interval": 0
          },
          "height": 51,
          "output_extras": [
            {
              "item_id": 1
            }
          ]
        },
        "colab_type": "code",
        "executionInfo": {
          "elapsed": 1165,
          "status": "ok",
          "timestamp": 1521586353841,
          "user": {
            "displayName": "",
            "photoUrl": "",
            "userId": ""
          },
          "user_tz": 420
        },
        "id": "tLwioZPRrG6t",
        "outputId": "40c6f663-a8db-41a9-fdf0-555b4fddee92"
      },
      "outputs": [
        {
          "name": "stdout",
          "output_type": "stream",
          "text": [
            "Event shape: tf.Tensor([], shape=(0,), dtype=int32)\n",
            "Batch shape: tf.Tensor([2 5], shape=(2,), dtype=int32)\n"
          ]
        }
      ],
      "source": [
        "two_by_five_bernoulli = tfd.Bernoulli(probs=[[.05, .1, .15, .2, .25], [.3, .35, .4, .45, .5]])\n",
        "describe_distribution(two_by_five_bernoulli)"
      ]
    },
    {
      "cell_type": "markdown",
      "metadata": {
        "colab_type": "text",
        "id": "-okVviR3rG6v"
      },
      "source": [
        "We can think of this as two-by-five array of coins with the associated probabilities of heads. Let's evaluate the probability of a particular, arbitrary set of ones-and-zeros:"
      ]
    },
    {
      "cell_type": "code",
      "execution_count": 38,
      "metadata": {
        "colab": {
          "autoexec": {
            "startup": false,
            "wait_interval": 0
          },
          "height": 67,
          "output_extras": [
            {
              "item_id": 1
            }
          ]
        },
        "colab_type": "code",
        "executionInfo": {
          "elapsed": 1189,
          "status": "ok",
          "timestamp": 1521586355867,
          "user": {
            "displayName": "",
            "photoUrl": "",
            "userId": ""
          },
          "user_tz": 420
        },
        "id": "9yq9jTGIrG6x",
        "outputId": "374d0b93-9fbe-4ae1-8471-dc960c2f5706"
      },
      "outputs": [
        {
          "data": {
            "text/plain": [
              "\u003ctf.Tensor: id=2601, shape=(2, 5), dtype=float32, numpy=\n",
              "array([[-2.99573231, -0.1053605 , -0.16251893, -1.60943794, -0.28768203],\n",
              "       [-0.35667494, -0.43078294, -0.91629076, -0.79850775, -0.69314718]], dtype=float32)\u003e"
            ]
          },
          "execution_count": 38,
          "metadata": {
            "tags": []
          },
          "output_type": "execute_result"
        }
      ],
      "source": [
        "pattern = [[1., 0., 0., 1., 0.], [0., 0., 1., 1., 1.]] \n",
        "log_prob = two_by_five_bernoulli.log_prob(pattern)\n",
        "log_prob"
      ]
    },
    {
      "cell_type": "markdown",
      "metadata": {
        "colab_type": "text",
        "id": "C9CA19oPrG6y"
      },
      "source": [
        "We can use `Independent` to turn this into two different \"sets of five Bernoulli's\", which is useful if we want to consider a \"row\" of coin flips coming up in a given pattern as a single outcome:"
      ]
    },
    {
      "cell_type": "code",
      "execution_count": 39,
      "metadata": {
        "colab": {
          "autoexec": {
            "startup": false,
            "wait_interval": 0
          },
          "height": 51,
          "output_extras": [
            {
              "item_id": 1
            }
          ]
        },
        "colab_type": "code",
        "executionInfo": {
          "elapsed": 1188,
          "status": "ok",
          "timestamp": 1521586357854,
          "user": {
            "displayName": "",
            "photoUrl": "",
            "userId": ""
          },
          "user_tz": 420
        },
        "id": "1iR23BMBrG6z",
        "outputId": "8ef61eaf-b249-4b61-fc2a-ddaf54125ac3"
      },
      "outputs": [
        {
          "name": "stdout",
          "output_type": "stream",
          "text": [
            "Event shape: tf.Tensor([5], shape=(1,), dtype=int32)\n",
            "Batch shape: tf.Tensor([2], shape=(1,), dtype=int32)\n"
          ]
        }
      ],
      "source": [
        "two_sets_of_five = tfd.Independent(\n",
        "    distribution=two_by_five_bernoulli,\n",
        "    reinterpreted_batch_ndims=1)\n",
        "describe_distribution(two_sets_of_five)"
      ]
    },
    {
      "cell_type": "code",
      "execution_count": 40,
      "metadata": {
        "colab": {
          "autoexec": {
            "startup": false,
            "wait_interval": 0
          },
          "height": 34,
          "output_extras": [
            {
              "item_id": 1
            }
          ]
        },
        "colab_type": "code",
        "executionInfo": {
          "elapsed": 1117,
          "status": "ok",
          "timestamp": 1521586359774,
          "user": {
            "displayName": "",
            "photoUrl": "",
            "userId": ""
          },
          "user_tz": 420
        },
        "id": "LcM6OgKNrG66",
        "outputId": "71703bff-aff0-4f51-b4d6-e7617b42d801"
      },
      "outputs": [
        {
          "data": {
            "text/plain": [
              "\u003ctf.Tensor: id=2622, shape=(2,), dtype=float32, numpy=array([-5.16073179, -3.19540358], dtype=float32)\u003e"
            ]
          },
          "execution_count": 40,
          "metadata": {
            "tags": []
          },
          "output_type": "execute_result"
        }
      ],
      "source": [
        "two_sets_of_five.log_prob(pattern)"
      ]
    },
    {
      "cell_type": "markdown",
      "metadata": {
        "colab_type": "text",
        "id": "mRrkesaPrG67"
      },
      "source": [
        "Mathematically, we're computing the log probability of each \"set\" of five by summing the log probabilities of the five \"independent\" coin flips in the set, which is where the distribution gets its name:"
      ]
    },
    {
      "cell_type": "code",
      "execution_count": 41,
      "metadata": {
        "colab": {
          "autoexec": {
            "startup": false,
            "wait_interval": 0
          },
          "height": 34,
          "output_extras": [
            {
              "item_id": 1
            }
          ]
        },
        "colab_type": "code",
        "executionInfo": {
          "elapsed": 1366,
          "status": "ok",
          "timestamp": 1521586362063,
          "user": {
            "displayName": "",
            "photoUrl": "",
            "userId": ""
          },
          "user_tz": 420
        },
        "id": "rEoBDNVkrG68",
        "outputId": "290ab1a1-e31e-455f-d418-564fc8fec00d"
      },
      "outputs": [
        {
          "data": {
            "text/plain": [
              "\u003ctf.Tensor: id=2624, shape=(2,), dtype=float32, numpy=array([-5.16073179, -3.19540358], dtype=float32)\u003e"
            ]
          },
          "execution_count": 41,
          "metadata": {
            "tags": []
          },
          "output_type": "execute_result"
        }
      ],
      "source": [
        "tf.reduce_sum(log_prob, axis=1)"
      ]
    },
    {
      "cell_type": "markdown",
      "metadata": {
        "colab_type": "text",
        "id": "krpnUVL9rG7A"
      },
      "source": [
        "We can go even further and use `Independent` to create a distribution where individual events are a set of two-by-five Bernoulli's:"
      ]
    },
    {
      "cell_type": "code",
      "execution_count": 42,
      "metadata": {
        "colab": {
          "autoexec": {
            "startup": false,
            "wait_interval": 0
          },
          "height": 34,
          "output_extras": [
            {
              "item_id": 1
            }
          ]
        },
        "colab_type": "code",
        "executionInfo": {
          "elapsed": 1188,
          "status": "ok",
          "timestamp": 1521586363764,
          "user": {
            "displayName": "",
            "photoUrl": "",
            "userId": ""
          },
          "user_tz": 420
        },
        "id": "PXSsoidirG7A",
        "outputId": "c99a90ad-12f3-4af7-b89e-4f3dac2756a8"
      },
      "outputs": [
        {
          "data": {
            "text/plain": [
              "\u003ctf.Tensor: id=2641, shape=(), dtype=float32, numpy=-8.3561344\u003e"
            ]
          },
          "execution_count": 42,
          "metadata": {
            "tags": []
          },
          "output_type": "execute_result"
        }
      ],
      "source": [
        "one_set_of_two_by_five = tfd.Independent(\n",
        "    distribution=two_by_five_bernoulli, reinterpreted_batch_ndims=2)\n",
        "one_set_of_two_by_five.log_prob(pattern)"
      ]
    },
    {
      "cell_type": "code",
      "execution_count": 43,
      "metadata": {
        "colab": {
          "autoexec": {
            "startup": false,
            "wait_interval": 0
          },
          "height": 34,
          "output_extras": [
            {
              "item_id": 1
            }
          ]
        },
        "colab_type": "code",
        "executionInfo": {
          "elapsed": 1081,
          "status": "ok",
          "timestamp": 1521586365712,
          "user": {
            "displayName": "",
            "photoUrl": "",
            "userId": ""
          },
          "user_tz": 420
        },
        "id": "OwgWwmHLrG7C",
        "outputId": "e9bcd654-c07c-4452-cc83-710659b1c472"
      },
      "outputs": [
        {
          "data": {
            "text/plain": [
              "\u003ctf.Tensor: id=2644, shape=(), dtype=float32, numpy=-8.3561344\u003e"
            ]
          },
          "execution_count": 43,
          "metadata": {
            "tags": []
          },
          "output_type": "execute_result"
        }
      ],
      "source": [
        "tf.reduce_sum(log_prob)"
      ]
    },
    {
      "cell_type": "markdown",
      "metadata": {
        "colab_type": "text",
        "id": "QfbfHA4hrG7F"
      },
      "source": [
        "It's worth noting that from the perspective of `sample`, using `Independent` changes nothing: we get back samples with the same shape:"
      ]
    },
    {
      "cell_type": "code",
      "execution_count": 44,
      "metadata": {
        "colab": {
          "autoexec": {
            "startup": false,
            "wait_interval": 0
          },
          "height": 319,
          "output_extras": [
            {
              "item_id": 1
            }
          ]
        },
        "colab_type": "code",
        "executionInfo": {
          "elapsed": 1043,
          "status": "ok",
          "timestamp": 1521586367705,
          "user": {
            "displayName": "",
            "photoUrl": "",
            "userId": ""
          },
          "user_tz": 420
        },
        "id": "uZ3NhQEZrG7F",
        "outputId": "8ff49555-abb3-4fd5-951b-1a445160c5d7"
      },
      "outputs": [
        {
          "name": "stdout",
          "output_type": "stream",
          "text": [
            "Two-by-five\n",
            "Event shape: tf.Tensor([], shape=(0,), dtype=int32)\n",
            "Batch shape: tf.Tensor([2 5], shape=(2,), dtype=int32)\n",
            "Sample shape: [3, 5]\n",
            "Returned sample tensor shape: (3, 5, 2, 5)\n",
            "\n",
            "Two sets of five\n",
            "Event shape: tf.Tensor([5], shape=(1,), dtype=int32)\n",
            "Batch shape: tf.Tensor([2], shape=(1,), dtype=int32)\n",
            "Sample shape: [3, 5]\n",
            "Returned sample tensor shape: (3, 5, 2, 5)\n",
            "\n",
            "One set of two-by-five\n",
            "Event shape: tf.Tensor([2 5], shape=(2,), dtype=int32)\n",
            "Batch shape: tf.Tensor([], shape=(0,), dtype=int32)\n",
            "Sample shape: [3, 5]\n",
            "Returned sample tensor shape: (3, 5, 2, 5)\n",
            "\n"
          ]
        }
      ],
      "source": [
        "describe_sample_tensor_shapes(\n",
        "    {\"Two-by-five\": two_by_five_bernoulli,\n",
        "     \"Two sets of five\": two_sets_of_five,\n",
        "     \"One set of two-by-five\": one_set_of_two_by_five},\n",
        "    [[3, 5]])"
      ]
    },
    {
      "cell_type": "markdown",
      "metadata": {
        "colab_type": "text",
        "id": "usTT7v0trG7H"
      },
      "source": [
        "As a parting exercise for the reader, we suggest considering the differences and similarities between a vector batch of `Normal` distributions and a `MultivariateNormalDiag` distribution from a sampling and log probability perspective. How can we use `Independent` to construct a `MultivariateNormalDiag` from a batch of `Normal`s? (Note that `MultivariateNormalDiag` is not actually implemented this way.)"
      ]
    }
  ],
  "metadata": {
    "colab": {
      "collapsed_sections": [
        "wDRB80oLrG48"
      ],
      "default_view": {},
      "name": "Understanding TensorFlow Distributions Shapes.ipynb",
      "provenance": [],
      "version": "0.3.2",
      "views": {}
    },
    "kernelspec": {
      "display_name": "Python [conda env:tfp]",
      "language": "python",
      "name": "conda-env-tfp-py"
    }
  },
  "nbformat": 4,
  "nbformat_minor": 0
}
